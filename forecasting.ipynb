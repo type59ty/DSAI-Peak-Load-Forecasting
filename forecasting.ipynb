{
 "cells": [
  {
   "cell_type": "markdown",
   "metadata": {},
   "source": [
    "# Peak Load Forecasting"
   ]
  },
  {
   "cell_type": "markdown",
   "metadata": {},
   "source": [
    "### import"
   ]
  },
  {
   "cell_type": "code",
   "execution_count": 1,
   "metadata": {},
   "outputs": [],
   "source": [
    "import csv\n",
    "import numpy as np\n",
    "from sklearn.metrics import mean_squared_error\n",
    "from sklearn.svm import SVC\n",
    "from math import sqrt\n",
    "# ignore warnings\n",
    "import warnings\n",
    "warnings.filterwarnings('ignore')"
   ]
  },
  {
   "cell_type": "markdown",
   "metadata": {},
   "source": [
    "### load data"
   ]
  },
  {
   "cell_type": "code",
   "execution_count": 2,
   "metadata": {},
   "outputs": [],
   "source": [
    "max_peak  = []         # 台電預估之 淨尖峰供電能力\n",
    "peak_load = []         # 尖峰負載\n",
    "nxweek_max_peak  = [] \n",
    "nxweek_peak_load = [] \n",
    "\n",
    "# Read from csv files\n",
    "with open(\"power_dataset.csv\", newline='') as csvfile: # 台灣電力公司_過去電力供需資訊\n",
    "    rows = csv.DictReader(csvfile)\n",
    "    for row in rows:\n",
    "        # 將'淨尖峰供電能力'和'尖峰負載'這兩欄的資料分別存入 max_peak 和 peak_load \n",
    "        max_peak.append (float(row['max_peak']))\n",
    "        peak_load.append(float(row['peak_load']))\n",
    "\n",
    "with open(\"next_week.csv\", newline='') as csvfile:     # 台灣電力公司_未來一週電力供需預測\n",
    "    rows = csv.DictReader(csvfile)\n",
    "    for row in rows:\n",
    "        nxweek_max_peak.append (float(row['max_peak'])*10) # 單位換算\n",
    "        nxweek_peak_load.append(float(row['peak_load'])*10)\n",
    "\n",
    "# reshape 成 svm 接受的格式\n",
    "X_train = np.array(max_peak ).reshape(-1,1)\n",
    "y_train = np.array(peak_load).reshape(-1,1)\n",
    "X_test  = np.array(nxweek_max_peak).reshape(-1,1)\n",
    "y_test  = np.array(nxweek_peak_load).reshape(-1,1)"
   ]
  },
  {
   "cell_type": "markdown",
   "metadata": {},
   "source": [
    "### training"
   ]
  },
  {
   "cell_type": "code",
   "execution_count": 3,
   "metadata": {
    "scrolled": false
   },
   "outputs": [],
   "source": [
    "# 建立 svc model 並使用 '淨尖峰供電能力'和'尖峰負載'這兩個features 進行訓練\n",
    "model = SVC(kernel='poly' ,gamma='scale', degree=9, C=1.0, max_iter=20000).fit(X_train, y_train)\n",
    "# 使用台電預測的下週 '淨尖峰供電能力' 進行預測\n",
    "nxweek_pred = model.predict(X_test)\n",
    "# 用 RMSE 進行評估\n",
    "result = sqrt(mean_squared_error(y_test, nxweek_pred))"
   ]
  },
  {
   "cell_type": "markdown",
   "metadata": {},
   "source": [
    "### output"
   ]
  },
  {
   "cell_type": "code",
   "execution_count": 4,
   "metadata": {},
   "outputs": [
    {
     "name": "stdout",
     "output_type": "stream",
     "text": [
      "predicted RMSE: 165.92123776918115\n",
      "score: 0.7427122940430925\n"
     ]
    }
   ],
   "source": [
    "# 輸出 submission.csv\n",
    "with open('submission.csv', 'w', newline='') as csvfile:\n",
    "    writer = csv.writer(csvfile)\n",
    "    writer.writerow(['date','peak_load(MW)'])\n",
    "    for i in range(20190402,20190409):\n",
    "        writer.writerow([i, int(nxweek_pred[i-20190402])])\n",
    "\n",
    "# 印出 RMSE 和 svc model 之 score\n",
    "print(\"predicted RMSE: {}\".format(result))\n",
    "print(\"score: {}\".format(model.score(X_train,y_train)))"
   ]
  },
  {
   "cell_type": "code",
   "execution_count": null,
   "metadata": {},
   "outputs": [],
   "source": []
  },
  {
   "cell_type": "code",
   "execution_count": null,
   "metadata": {},
   "outputs": [],
   "source": []
  },
  {
   "cell_type": "code",
   "execution_count": null,
   "metadata": {},
   "outputs": [],
   "source": []
  },
  {
   "cell_type": "code",
   "execution_count": null,
   "metadata": {},
   "outputs": [],
   "source": []
  },
  {
   "cell_type": "code",
   "execution_count": null,
   "metadata": {},
   "outputs": [],
   "source": []
  },
  {
   "cell_type": "code",
   "execution_count": null,
   "metadata": {},
   "outputs": [],
   "source": []
  },
  {
   "cell_type": "code",
   "execution_count": null,
   "metadata": {},
   "outputs": [],
   "source": []
  },
  {
   "cell_type": "code",
   "execution_count": null,
   "metadata": {},
   "outputs": [],
   "source": []
  }
 ],
 "metadata": {
  "kernelspec": {
   "display_name": "Python 3",
   "language": "python",
   "name": "python3"
  },
  "language_info": {
   "codemirror_mode": {
    "name": "ipython",
    "version": 3
   },
   "file_extension": ".py",
   "mimetype": "text/x-python",
   "name": "python",
   "nbconvert_exporter": "python",
   "pygments_lexer": "ipython3",
   "version": "3.6.7"
  }
 },
 "nbformat": 4,
 "nbformat_minor": 2
}
